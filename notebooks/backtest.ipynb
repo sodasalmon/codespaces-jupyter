{
 "cells": [
  {
   "cell_type": "code",
   "execution_count": null,
   "metadata": {},
   "outputs": [],
   "source": [
    "import pandas as pd\n",
    "from backtesting import Strategy\n",
    "from backtesting.lib import crossover, TrailingStrategy\n",
    "from backtesting import Backtest\n",
    "from backtesting.test import SMA\n",
    "\n",
    "import numpy as np\n",
    "\n",
    "data = pd.read_csv(\"../data/BTC-USD.csv\", parse_dates=[0], date_parser=pd.to_datetime, index_col = [0], header = 0)\n",
    "\n",
    "# data = pd.read_csv(\"BTC-USD-100day.csv\", parse_dates=[0], date_parser=pd.to_datetime, index_col = [0], header = 0)\n"
   ]
  },
  {
   "cell_type": "code",
   "execution_count": null,
   "metadata": {},
   "outputs": [],
   "source": [
    "# def SMA(values, n):\n",
    "#     \"\"\"\n",
    "#     Return simple moving average of `values`, at\n",
    "#     each step taking into account `n` previous values.\n",
    "#     \"\"\"\n",
    "#     return pd.Series(values).rolling(n).mean()\n",
    "\n",
    "class BTCStrategy(Strategy):\n",
    "    # Define the two MA lags as *class variables*\n",
    "    # for later optimization\n",
    "    n1 = 5\n",
    "    n2 = 8\n",
    "    sltr=500e-4\n",
    "\n",
    "    def init(self):\n",
    "        # Precompute the two moving averages\n",
    "        super().init()\n",
    "        self.sma1 = self.I(SMA, self.data.Close, self.n1)\n",
    "        self.sma2 = self.I(SMA, self.data.Close, self.n2)\n",
    "        \n",
    "    \n",
    "    def next(self):\n",
    "\n",
    "        super().next()\n",
    "\n",
    "        sltr = self.sltr\n",
    "        if len(self.trades) > 0:\n",
    "            print(\"Active Trade: \" + str(len(self.trades)))\n",
    "\n",
    "        for trade in self.trades: \n",
    "            if trade.is_long: \n",
    "                trade.sl = max(trade.sl or -np.inf, self.data.High[-1] * (1-sltr))\n",
    "                print(\"entry_time: \" + str(trade.entry_time) + \" ,sl: \" + str(trade.sl))\n",
    "            # else:\n",
    "            #     trade.sl = min(trade.sl or np.inf, self.data.Close[-1] + sltr) \n",
    "\n",
    "        if (self.data.Open[-1] > self.sma1[-2] and \n",
    "        self.sma1[-2] > self.sma2[-2] and\n",
    "        self.data.Open[-1] > self.data.Low[-2] and \n",
    "        self.data.Low[-2] > self.data.Low[-3] and\n",
    "        self.data.Low[-3] > self.data.Low[-4]):\n",
    "            print (\"Open[-1]: \" + str(self.data.Open[-1]) +\n",
    "            \" Low[-2]: \" + str( self.data.Low[-2]) +\n",
    "            \" Low[-3]: \" + str( self.data.Low[-3]) +\n",
    "            \" Low[-4]: \" + str( self.data.Low[-4]) +\n",
    "            \" sma1: \" + str(self.sma1[-2]) +\n",
    "            \" sma2: \" + str(self.sma2[-2])\n",
    "            )\n",
    "            self.buy(limit=self.data.Open[-1], sl=self.data.Low[-2])\n"
   ]
  },
  {
   "cell_type": "code",
   "execution_count": null,
   "metadata": {},
   "outputs": [],
   "source": [
    "bt = Backtest(data, BTCStrategy, cash=1000000, commission=.002)\n",
    "stats = bt.run()\n",
    "stats\n",
    "# stats['_equity_curve']\n"
   ]
  },
  {
   "cell_type": "code",
   "execution_count": null,
   "metadata": {},
   "outputs": [],
   "source": [
    "bt.plot()"
   ]
  }
 ],
 "metadata": {
  "kernelspec": {
   "display_name": "Python 3.10.8 64-bit",
   "language": "python",
   "name": "python3"
  },
  "language_info": {
   "codemirror_mode": {
    "name": "ipython",
    "version": 3
   },
   "file_extension": ".py",
   "mimetype": "text/x-python",
   "name": "python",
   "nbconvert_exporter": "python",
   "pygments_lexer": "ipython3",
   "version": "3.10.8"
  },
  "orig_nbformat": 4,
  "vscode": {
   "interpreter": {
    "hash": "4734142438cf8565da8ffbface57347349767c06538b789497aacb4051efeb32"
   }
  }
 },
 "nbformat": 4,
 "nbformat_minor": 2
}
